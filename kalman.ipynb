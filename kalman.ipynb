{
 "cells": [
  {
   "cell_type": "code",
   "execution_count": 91,
   "metadata": {
    "collapsed": true
   },
   "outputs": [],
   "source": [
    "import numpy as np\n",
    "import matplotlib.pyplot as plt\n",
    "import csv\n",
    "import pandas as pd\n",
    "import datetime\n",
    "import math\n",
    "import random\n",
    "\n",
    "%matplotlib inline"
   ]
  },
  {
   "cell_type": "code",
   "execution_count": 92,
   "metadata": {
    "collapsed": true
   },
   "outputs": [],
   "source": [
    "R = 500\n",
    "V = 30\n",
    "d = [t * V for t in range(10)]\n",
    "m = [x + (random.random()*R)-R/2 for x in d]\n",
    "\n"
   ]
  },
  {
   "cell_type": "code",
   "execution_count": 95,
   "metadata": {},
   "outputs": [
    {
     "name": "stdout",
     "output_type": "stream",
     "text": [
      "n 1\n",
      "d 30 est 264.60981558856656\n",
      "KG 0.999999988888889\n",
      "error 9.99999992812306e-09\n",
      "n 2\n",
      "d 60 est 91.807383060995\n",
      "KG 0.4999999982030765\n",
      "error 4.999999982030765e-09\n",
      "n 3\n",
      "d 90 est 88.41576249606435\n",
      "KG 0.33333333253470065\n",
      "error 3.3333333253470067e-09\n",
      "n 4\n",
      "d 120 est 111.08540352334418\n",
      "KG 0.24999999955076913\n",
      "error 2.4999999955076913e-09\n",
      "n 5\n",
      "d 150 est 192.88072370899334\n",
      "KG 0.19999999971249224\n",
      "error 1.9999999971249226e-09\n",
      "n 6\n",
      "d 180 est 164.6322549015887\n",
      "KG 0.1666666664670085\n",
      "error 1.6666666646700851e-09\n",
      "n 7\n",
      "d 210 est 230.79764460127754\n",
      "KG 0.14285714271045521\n",
      "error 1.4285714271045524e-09\n",
      "n 8\n",
      "d 240 est 247.4586638287206\n",
      "KG 0.12499999988769228\n",
      "error 1.249999998876923e-09\n",
      "n 9\n",
      "d 270 est 293.5296387418003\n",
      "KG 0.11111111102237416\n",
      "error 1.1111111102237417e-09\n"
     ]
    }
   ],
   "source": [
    "est = [0] * len(m)\n",
    "est[0] = 100\n",
    "e_est = [0] * len(m)\n",
    "KG = [0] * len(m)\n",
    "e_est[0] = 0.9\n",
    "KG[0] = 0.00000\n",
    "EM = 0.00000001\n",
    "\n",
    "for n in range(1,len(m)):\n",
    "    print('n', n)\n",
    "    \n",
    "    KG[n] = e_est[n-1] / (e_est[n-1] + EM)\n",
    "    est[n] = d[n] + KG[n] * (m[n] - d[n])\n",
    "    e_est[n] = (1-KG[n]) * e_est[n-1]\n",
    "    \n",
    "    print (\"d\", d[n], \"est\", est[n])\n",
    "    print ('KG', KG[n])\n",
    "    print ('error', e_est[n])\n"
   ]
  },
  {
   "cell_type": "code",
   "execution_count": 96,
   "metadata": {},
   "outputs": [
    {
     "data": {
      "text/plain": [
       "[<matplotlib.lines.Line2D at 0x1100128d0>]"
      ]
     },
     "execution_count": 96,
     "metadata": {},
     "output_type": "execute_result"
    },
    {
     "data": {
      "image/png": "[encoded data removed]",
      "text/plain": [
       "<matplotlib.figure.Figure at 0x11008ed68>"
      ]
     },
     "metadata": {},
     "output_type": "display_data"
    }
   ],
   "source": [
    "plt.plot(d)\n",
    "plt.plot(m)\n",
    "plt.plot(est)"
   ]
  },
  {
   "cell_type": "code",
   "execution_count": null,
   "metadata": {
    "collapsed": true
   },
   "outputs": [],
   "source": []
  },
  {
   "cell_type": "code",
   "execution_count": null,
   "metadata": {
    "collapsed": true
   },
   "outputs": [],
   "source": []
  }
 ],
 "metadata": {
  "kernelspec": {
   "display_name": "Python 3",
   "language": "python",
   "name": "python3"
  },
  "language_info": {
   "codemirror_mode": {
    "name": "ipython",
    "version": 3
   },
   "file_extension": ".py",
   "mimetype": "text/x-python",
   "name": "python",
   "nbconvert_exporter": "python",
   "pygments_lexer": "ipython3",
   "version": "3.5.2"
  },
  "widgets": {
   "state": {},
   "version": "1.1.2"
  }
 },
 "nbformat": 4,
 "nbformat_minor": 2
}
