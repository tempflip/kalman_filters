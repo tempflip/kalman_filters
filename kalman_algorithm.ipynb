{
 "cells": [
  {
   "cell_type": "code",
   "execution_count": 137,
   "metadata": {
    "collapsed": true
   },
   "outputs": [],
   "source": [
    "import numpy as np\n",
    "import matplotlib.pyplot as plt\n",
    "import csv\n",
    "import pandas as pd\n",
    "import datetime\n",
    "import math\n",
    "import random\n",
    "\n",
    "%matplotlib inline"
   ]
  },
  {
   "cell_type": "code",
   "execution_count": 138,
   "metadata": {},
   "outputs": [],
   "source": [
    "measurements = [x for x in range(1,10)]\n",
    "\n",
    "x = np.array([[0.], [0.]]) # initial state (location and velocity)\n",
    "P = np.array([[1000., 0.], [0., 1000.]]) # initial uncertainty\n",
    "u = np.array([[0.], [0.]]) # external motion\n",
    "F = np.array([[1., 1.], [0, 1.]]) # next state function\n",
    "H = np.array([[1., 0.]]) # measurement function\n",
    "R = np.array([[1.]]) # measurement uncertainty\n",
    "I = np.array([[1., 0.], [0., 1.]]) # identity matrix\n",
    "\n"
   ]
  },
  {
   "cell_type": "code",
   "execution_count": 139,
   "metadata": {
    "collapsed": true
   },
   "outputs": [],
   "source": [
    "def feed_meas(x, P, m):\n",
    "    z = np.array([[m]]) # z - measurement matrix\n",
    "    \n",
    "    y = z - np.dot(H,x) # error : previous state - measurement X measurement matrix\n",
    "    S = np.dot(np.dot(H,P), H.transpose()) + R\n",
    "    K = np.dot(np.dot(P, H.transpose()), np.linalg.inv(S)) # kalman gain\n",
    "    \n",
    "    x = x + np.dot(K, y) # new state : x + kalman gain X error\n",
    "    P = np.dot((I - np.dot(K, H)), P) # adjusting uncertainty covariance\n",
    "    \n",
    "    return x, P\n",
    "\n",
    "def predict_next_state(x, P, u):\n",
    "    x = np.dot(F, x) + u # new state : movement matrix X current state + movement\n",
    "    P = np.dot(np.dot(F, P), F.transpose()) # adjusting covar matrix \n",
    "    \n",
    "    return x, P"
   ]
  },
  {
   "cell_type": "code",
   "execution_count": 140,
   "metadata": {},
   "outputs": [],
   "source": [
    "\n",
    "# Implement the filter function below\n",
    "l = []\n",
    "\n",
    "def kalman_filter(x, P):\n",
    "    for n in range(len(measurements)):\n",
    "        x, P = feed_meas(x, P, measurements[n])\n",
    "        print ('Step', n, 'after feeding m',measurements[n], x)\n",
    "        x, P = predict_next_state(x, P, u)\n",
    "        print ('Step', n, 'prediction', x)\n",
    "        \n",
    "        l.append(x)\n",
    "        \n"
   ]
  },
  {
   "cell_type": "code",
   "execution_count": 141,
   "metadata": {
    "scrolled": true
   },
   "outputs": [
    {
     "name": "stdout",
     "output_type": "stream",
     "text": [
      "Step 0 after feeding m 1 [[ 0.999001]\n",
      " [ 0.      ]]\n",
      "Step 0 prediction [[ 0.999001]\n",
      " [ 0.      ]]\n",
      "Step 1 after feeding m 2 [[ 1.999001]\n",
      " [ 0.999002]]\n",
      "Step 1 prediction [[ 2.99800299]\n",
      " [ 0.999002  ]]\n",
      "Step 2 after feeding m 3 [[ 2.99966661]\n",
      " [ 0.99999983]]\n",
      "Step 2 prediction [[ 3.99966644]\n",
      " [ 0.99999983]]\n",
      "Step 3 after feeding m 4 [[ 3.99989989]\n",
      " [ 1.00009986]]\n",
      "Step 3 prediction [[ 4.99999975]\n",
      " [ 1.00009986]]\n",
      "Step 4 after feeding m 5 [[ 4.9999999 ]\n",
      " [ 1.00009991]]\n",
      "Step 4 prediction [[ 6.00009981]\n",
      " [ 1.00009991]]\n",
      "Step 5 after feeding m 6 [[ 6.00004753]\n",
      " [ 1.00008565]]\n",
      "Step 5 prediction [[ 7.00013319]\n",
      " [ 1.00008565]]\n",
      "Step 6 after feeding m 7 [[ 7.00007136]\n",
      " [ 1.00007139]]\n",
      "Step 6 prediction [[ 8.00014274]\n",
      " [ 1.00007139]]\n",
      "Step 7 after feeding m 8 [[ 8.00008327]\n",
      " [ 1.00005949]]\n",
      "Step 7 prediction [[ 9.00014277]\n",
      " [ 1.00005949]]\n",
      "Step 8 after feeding m 9 [[ 9.00008884]\n",
      " [ 1.00004998]]\n",
      "Step 8 prediction [[ 10.00013882]\n",
      " [  1.00004998]]\n"
     ]
    }
   ],
   "source": [
    "kalman_filter(x, P)"
   ]
  },
  {
   "cell_type": "code",
   "execution_count": 142,
   "metadata": {},
   "outputs": [],
   "source": [
    "l = np.array(l)"
   ]
  },
  {
   "cell_type": "code",
   "execution_count": 143,
   "metadata": {},
   "outputs": [],
   "source": [
    "l = l.reshape(9,2)"
   ]
  },
  {
   "cell_type": "code",
   "execution_count": 144,
   "metadata": {},
   "outputs": [
    {
     "data": {
      "text/plain": [
       "[<matplotlib.lines.Line2D at 0x116763470>]"
      ]
     },
     "execution_count": 144,
     "metadata": {},
     "output_type": "execute_result"
    },
    {
     "data": {
      "image/png": "[encoded data removed]",
      "text/plain": [
       "<matplotlib.figure.Figure at 0x1168cae80>"
      ]
     },
     "metadata": {},
     "output_type": "display_data"
    }
   ],
   "source": [
    "plt.plot(l[:,1])"
   ]
  },
  {
   "cell_type": "code",
   "execution_count": null,
   "metadata": {
    "collapsed": true
   },
   "outputs": [],
   "source": []
  }
 ],
 "metadata": {
  "kernelspec": {
   "display_name": "Python 3",
   "language": "python",
   "name": "python3"
  },
  "language_info": {
   "codemirror_mode": {
    "name": "ipython",
    "version": 3
   },
   "file_extension": ".py",
   "mimetype": "text/x-python",
   "name": "python",
   "nbconvert_exporter": "python",
   "pygments_lexer": "ipython3",
   "version": "3.5.2"
  },
  "widgets": {
   "state": {},
   "version": "1.1.2"
  }
 },
 "nbformat": 4,
 "nbformat_minor": 2
}
