{
 "cells": [
  {
   "cell_type": "code",
   "execution_count": 1,
   "metadata": {
    "collapsed": true
   },
   "outputs": [],
   "source": [
    "import numpy as np\n",
    "import matplotlib.pyplot as plt\n",
    "import csv\n",
    "import pandas as pd\n",
    "import datetime\n",
    "import math\n",
    "import random\n",
    "\n",
    "%matplotlib inline"
   ]
  },
  {
   "cell_type": "code",
   "execution_count": 44,
   "metadata": {
    "collapsed": true
   },
   "outputs": [],
   "source": [
    "measurements = [1, 2, 3]\n",
    "\n",
    "x = np.array([[0.], [0.]]) # initial state (location and velocity)\n",
    "P = np.array([[1000., 0.], [0., 1000.]]) # initial uncertainty\n",
    "u = np.array([[0.], [0.]]) # external motion\n",
    "F = np.array([[1., 1.], [0, 1.]]) # next state function\n",
    "H = np.array([[1., 0.]]) # measurement function\n",
    "R = np.array([[1.]]) # measurement uncertainty\n",
    "I = np.array([[1., 0.], [0., 1.]]) # identity matrix\n",
    "\n",
    "\n"
   ]
  },
  {
   "cell_type": "code",
   "execution_count": 64,
   "metadata": {},
   "outputs": [
    {
     "name": "stdout",
     "output_type": "stream",
     "text": [
      "[[3]\n",
      " [4]]\n",
      "[[1 2]]\n",
      "[[11]]\n"
     ]
    }
   ],
   "source": [
    "kc = np.array([[3],[4]])\n",
    "ha = np.array([[1,2]])\n",
    "\n",
    "print(kc)\n",
    "print(ha)\n",
    "\n",
    "print(np.dot(ha, kc))"
   ]
  },
  {
   "cell_type": "code",
   "execution_count": 81,
   "metadata": {},
   "outputs": [],
   "source": [
    "\n",
    "# Implement the filter function below\n",
    "\n",
    "def kalman_filter(x, P):\n",
    "    for n in range(len(measurements)):\n",
    "         # measurement update\n",
    "        z = np.array([[measurements[n]]])\n",
    "        y = z - np.dot(H,x)\n",
    "        S = np.dot(np.dot(H,P), H.transpose()) + R\n",
    "        K = np.dot(np.dot(P, H.transpose()), np.linalg.inv(S))\n",
    "        \n",
    "        x = x + np.dot(K, y)\n",
    "        P = np.dot((I - np.dot(K, H)), P)\n",
    "        \n",
    "\n",
    "        # prediction\n",
    "        \n",
    "        x = np.dot(F, x) + u\n",
    "        P = np.dot(np.dot(F, P), F.transpose())\n",
    "        \n",
    "    return x,P"
   ]
  },
  {
   "cell_type": "code",
   "execution_count": 82,
   "metadata": {
    "scrolled": true
   },
   "outputs": [
    {
     "data": {
      "text/plain": [
       "(array([[ 3.99966644],\n",
       "        [ 0.99999983]]), array([[ 2.33189042,  0.99916761],\n",
       "        [ 0.99916761,  0.49950058]]))"
      ]
     },
     "execution_count": 82,
     "metadata": {},
     "output_type": "execute_result"
    }
   ],
   "source": [
    "kalman_filter(x, P)"
   ]
  },
  {
   "cell_type": "code",
   "execution_count": null,
   "metadata": {
    "collapsed": true
   },
   "outputs": [],
   "source": []
  },
  {
   "cell_type": "code",
   "execution_count": null,
   "metadata": {
    "collapsed": true
   },
   "outputs": [],
   "source": []
  }
 ],
 "metadata": {
  "kernelspec": {
   "display_name": "Python 3",
   "language": "python",
   "name": "python3"
  },
  "language_info": {
   "codemirror_mode": {
    "name": "ipython",
    "version": 3
   },
   "file_extension": ".py",
   "mimetype": "text/x-python",
   "name": "python",
   "nbconvert_exporter": "python",
   "pygments_lexer": "ipython3",
   "version": "3.5.2"
  },
  "widgets": {
   "state": {},
   "version": "1.1.2"
  }
 },
 "nbformat": 4,
 "nbformat_minor": 2
}
